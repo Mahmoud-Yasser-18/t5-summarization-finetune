{
 "cells": [
  {
   "cell_type": "code",
   "execution_count": null,
   "id": "8c63a1bc",
   "metadata": {},
   "outputs": [],
   "source": [
    "!pip install sagemaker --upgrade"
   ]
  },
  {
   "cell_type": "code",
   "execution_count": null,
   "id": "301f72ac",
   "metadata": {},
   "outputs": [],
   "source": [
    "import sagemaker\n",
    "sess = sagemaker.Session()\n",
    "role = sagemaker.get_execution_role()\n"
   ]
  },
  {
   "cell_type": "code",
   "execution_count": null,
   "id": "8ea3bf24",
   "metadata": {},
   "outputs": [],
   "source": [
    "from sagemaker.huggingface import HuggingFace\n",
    "# hyperparameters, which are passed into the training job\n",
    "\n",
    "mpi_options = {\n",
    "    \"enabled\" : True,\n",
    "    \"processes_per_host\" : 8\n",
    "}\n",
    "\n",
    "smp_options = {\n",
    "    \"enabled\":True,\n",
    "    \"parameters\": {\n",
    "        \"microbatches\": 2,\n",
    "        \"placement_strategy\": \"spread\",\n",
    "        \"pipeline\": \"interleaved\",\n",
    "        \"optimize\": \"speed\",\n",
    "        \"partitions\": 16,\n",
    "#         \"ddp\": True,\n",
    "    }\n",
    "}\n",
    "\n",
    "distribution={\n",
    "    \"smdistributed\": {\"modelparallel\": smp_options},\n",
    "    \"mpi\": mpi_options\n",
    "    \n",
    "}\n",
    "\n",
    "# hyperparameters={\n",
    "#     'output_dir':'/opt/ml/model',\n",
    "# }\n",
    "\n",
    "# create the Estimator\n",
    "huggingface_estimator = HuggingFace(\n",
    "        entry_point='train.py',\n",
    "        source_dir='./train',\n",
    "        instance_type='ml.p3.16xlarge',\n",
    "        instance_count=2,\n",
    "        role=role,\n",
    "        volume_size=50,\n",
    "        transformers_version='4.6.1',\n",
    "        pytorch_version='1.7.1',\n",
    "        py_version='py36',\n",
    "        distribution = distribution,\n",
    "#         hyperparameters = hyperparameters\n",
    ")\n"
   ]
  },
  {
   "cell_type": "code",
   "execution_count": null,
   "id": "cf701918",
   "metadata": {},
   "outputs": [],
   "source": [
    "import time\n",
    "\n",
    "job_name=\"t5-MP-small-{}\".format(strftime(\"%Y-%m-%d-%H-%M-%S\", time.gmtime()))\n",
    "huggingface_estimator.fit()\n",
    "\n"
   ]
  },
  {
   "cell_type": "code",
   "execution_count": null,
   "id": "a37909c6",
   "metadata": {},
   "outputs": [],
   "source": [
    "# container image used for training job\n",
    "print(f\"container image used for training job: \\n{huggingface_estimator.image_uri}\\n\")\n",
    "\n",
    "# s3 uri where the trained model is located\n",
    "print(f\"s3 uri where the trained model is located: \\n{huggingface_estimator.model_data}\\n\")\n",
    "\n",
    "# latest training job name for this estimator\n",
    "print(f\"latest training job name for this estimator: \\n{huggingface_estimator.latest_training_job.name}\\n\")\n"
   ]
  }
 ],
 "metadata": {
  "interpreter": {
   "hash": "f761e40836371916778f6d290f70f71c9443070a9883ab531453e53ce81b51d8"
  },
  "kernelspec": {
   "display_name": "Python 3 (ipykernel)",
   "language": "python",
   "name": "python3"
  },
  "language_info": {
   "codemirror_mode": {
    "name": "ipython",
    "version": 3
   },
   "file_extension": ".py",
   "mimetype": "text/x-python",
   "name": "python",
   "nbconvert_exporter": "python",
   "pygments_lexer": "ipython3",
   "version": "3.8.8"
  }
 },
 "nbformat": 4,
 "nbformat_minor": 5
}
